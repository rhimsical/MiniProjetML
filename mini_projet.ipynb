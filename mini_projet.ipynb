{
 "cells": [
  {
   "cell_type": "markdown",
   "metadata": {},
   "source": [
    "# basketball team selection"
   ]
  },
  {
   "cell_type": "markdown",
   "metadata": {},
   "source": [
    "# getting the data ready"
   ]
  },
  {
   "cell_type": "code",
   "execution_count": 2,
   "metadata": {},
   "outputs": [],
   "source": [
    "import pandas as pd\n",
    "import numpy as np\n",
    "\n",
    "#creating a dataframe and filling it with random numbers\n",
    "df1 = pd.DataFrame(np.random.randint(0,100,size=(300, 3)), columns=list('HWS'))"
   ]
  },
  {
   "cell_type": "code",
   "execution_count": 3,
   "metadata": {},
   "outputs": [
    {
     "data": {
      "text/html": [
       "<div>\n",
       "<style scoped>\n",
       "    .dataframe tbody tr th:only-of-type {\n",
       "        vertical-align: middle;\n",
       "    }\n",
       "\n",
       "    .dataframe tbody tr th {\n",
       "        vertical-align: top;\n",
       "    }\n",
       "\n",
       "    .dataframe thead th {\n",
       "        text-align: right;\n",
       "    }\n",
       "</style>\n",
       "<table border=\"1\" class=\"dataframe\">\n",
       "  <thead>\n",
       "    <tr style=\"text-align: right;\">\n",
       "      <th></th>\n",
       "      <th>H</th>\n",
       "      <th>W</th>\n",
       "      <th>S</th>\n",
       "    </tr>\n",
       "  </thead>\n",
       "  <tbody>\n",
       "    <tr>\n",
       "      <th>0</th>\n",
       "      <td>37</td>\n",
       "      <td>14</td>\n",
       "      <td>61</td>\n",
       "    </tr>\n",
       "    <tr>\n",
       "      <th>1</th>\n",
       "      <td>98</td>\n",
       "      <td>61</td>\n",
       "      <td>76</td>\n",
       "    </tr>\n",
       "    <tr>\n",
       "      <th>2</th>\n",
       "      <td>95</td>\n",
       "      <td>74</td>\n",
       "      <td>45</td>\n",
       "    </tr>\n",
       "    <tr>\n",
       "      <th>3</th>\n",
       "      <td>17</td>\n",
       "      <td>59</td>\n",
       "      <td>71</td>\n",
       "    </tr>\n",
       "    <tr>\n",
       "      <th>4</th>\n",
       "      <td>54</td>\n",
       "      <td>86</td>\n",
       "      <td>78</td>\n",
       "    </tr>\n",
       "    <tr>\n",
       "      <th>...</th>\n",
       "      <td>...</td>\n",
       "      <td>...</td>\n",
       "      <td>...</td>\n",
       "    </tr>\n",
       "    <tr>\n",
       "      <th>295</th>\n",
       "      <td>82</td>\n",
       "      <td>83</td>\n",
       "      <td>54</td>\n",
       "    </tr>\n",
       "    <tr>\n",
       "      <th>296</th>\n",
       "      <td>66</td>\n",
       "      <td>4</td>\n",
       "      <td>8</td>\n",
       "    </tr>\n",
       "    <tr>\n",
       "      <th>297</th>\n",
       "      <td>77</td>\n",
       "      <td>99</td>\n",
       "      <td>2</td>\n",
       "    </tr>\n",
       "    <tr>\n",
       "      <th>298</th>\n",
       "      <td>76</td>\n",
       "      <td>52</td>\n",
       "      <td>80</td>\n",
       "    </tr>\n",
       "    <tr>\n",
       "      <th>299</th>\n",
       "      <td>79</td>\n",
       "      <td>4</td>\n",
       "      <td>37</td>\n",
       "    </tr>\n",
       "  </tbody>\n",
       "</table>\n",
       "<p>300 rows × 3 columns</p>\n",
       "</div>"
      ],
      "text/plain": [
       "      H   W   S\n",
       "0    37  14  61\n",
       "1    98  61  76\n",
       "2    95  74  45\n",
       "3    17  59  71\n",
       "4    54  86  78\n",
       "..   ..  ..  ..\n",
       "295  82  83  54\n",
       "296  66   4   8\n",
       "297  77  99   2\n",
       "298  76  52  80\n",
       "299  79   4  37\n",
       "\n",
       "[300 rows x 3 columns]"
      ]
     },
     "execution_count": 3,
     "metadata": {},
     "output_type": "execute_result"
    }
   ],
   "source": [
    "df1"
   ]
  },
  {
   "cell_type": "code",
   "execution_count": 4,
   "metadata": {},
   "outputs": [],
   "source": [
    "#renaming columns\n",
    "df1.rename(columns={'H':'Height'}, inplace=True)\n",
    "df1.rename(columns={'W':'Weight'}, inplace=True)\n",
    "df1.rename(columns={'S':'Selection'}, inplace=True)"
   ]
  },
  {
   "cell_type": "code",
   "execution_count": 10,
   "metadata": {},
   "outputs": [],
   "source": [
    "#filling the weight col with random ints from 49 to 95\n",
    "df1['Weight'] = np.where(df1['Weight'], \n",
    "                       np.random.randint(49, 95, size=300), \n",
    "                       df1['Weight'])\n",
    "#filling the height col with random ints from 149 to 195\n",
    "df1['Height'] = np.where(df1['Height'], \n",
    "                       np.random.randint(149, 195, size=300), \n",
    "                       df1['Weight'])"
   ]
  },
  {
   "cell_type": "code",
   "execution_count": 18,
   "metadata": {},
   "outputs": [],
   "source": [
    "#filling the Selection col with 0 following the conditions\n",
    "df1.loc[((df1['Weight'] < 56) & (df1['Height'] < 168)) | (df1['Height']-df1['Weight'] < 110), \"Selection\"] = 0"
   ]
  },
  {
   "cell_type": "code",
   "execution_count": 19,
   "metadata": {},
   "outputs": [],
   "source": [
    "df1.loc[((df1['Weight'] >= 56) & (df1['Height'] >= 168)) | (df1['Height']-df1['Weight'] >= 110), \"Selection\"] = 1"
   ]
  },
  {
   "cell_type": "code",
   "execution_count": 21,
   "metadata": {},
   "outputs": [
    {
     "data": {
      "text/plain": [
       "array([0, 1])"
      ]
     },
     "execution_count": 21,
     "metadata": {},
     "output_type": "execute_result"
    }
   ],
   "source": [
    "df1.Selection.unique()"
   ]
  },
  {
   "cell_type": "code",
   "execution_count": 23,
   "metadata": {},
   "outputs": [
    {
     "data": {
      "text/html": [
       "<div>\n",
       "<style scoped>\n",
       "    .dataframe tbody tr th:only-of-type {\n",
       "        vertical-align: middle;\n",
       "    }\n",
       "\n",
       "    .dataframe tbody tr th {\n",
       "        vertical-align: top;\n",
       "    }\n",
       "\n",
       "    .dataframe thead th {\n",
       "        text-align: right;\n",
       "    }\n",
       "</style>\n",
       "<table border=\"1\" class=\"dataframe\">\n",
       "  <thead>\n",
       "    <tr style=\"text-align: right;\">\n",
       "      <th></th>\n",
       "      <th>Height</th>\n",
       "      <th>Weight</th>\n",
       "      <th>Selection</th>\n",
       "    </tr>\n",
       "  </thead>\n",
       "  <tbody>\n",
       "    <tr>\n",
       "      <th>count</th>\n",
       "      <td>300.000000</td>\n",
       "      <td>300.000000</td>\n",
       "      <td>300.000000</td>\n",
       "    </tr>\n",
       "    <tr>\n",
       "      <th>mean</th>\n",
       "      <td>171.363333</td>\n",
       "      <td>72.556667</td>\n",
       "      <td>0.636667</td>\n",
       "    </tr>\n",
       "    <tr>\n",
       "      <th>std</th>\n",
       "      <td>12.928333</td>\n",
       "      <td>13.368965</td>\n",
       "      <td>0.481763</td>\n",
       "    </tr>\n",
       "    <tr>\n",
       "      <th>min</th>\n",
       "      <td>149.000000</td>\n",
       "      <td>49.000000</td>\n",
       "      <td>0.000000</td>\n",
       "    </tr>\n",
       "    <tr>\n",
       "      <th>25%</th>\n",
       "      <td>160.750000</td>\n",
       "      <td>61.000000</td>\n",
       "      <td>0.000000</td>\n",
       "    </tr>\n",
       "    <tr>\n",
       "      <th>50%</th>\n",
       "      <td>172.000000</td>\n",
       "      <td>73.000000</td>\n",
       "      <td>1.000000</td>\n",
       "    </tr>\n",
       "    <tr>\n",
       "      <th>75%</th>\n",
       "      <td>183.000000</td>\n",
       "      <td>84.000000</td>\n",
       "      <td>1.000000</td>\n",
       "    </tr>\n",
       "    <tr>\n",
       "      <th>max</th>\n",
       "      <td>194.000000</td>\n",
       "      <td>94.000000</td>\n",
       "      <td>1.000000</td>\n",
       "    </tr>\n",
       "  </tbody>\n",
       "</table>\n",
       "</div>"
      ],
      "text/plain": [
       "           Height      Weight   Selection\n",
       "count  300.000000  300.000000  300.000000\n",
       "mean   171.363333   72.556667    0.636667\n",
       "std     12.928333   13.368965    0.481763\n",
       "min    149.000000   49.000000    0.000000\n",
       "25%    160.750000   61.000000    0.000000\n",
       "50%    172.000000   73.000000    1.000000\n",
       "75%    183.000000   84.000000    1.000000\n",
       "max    194.000000   94.000000    1.000000"
      ]
     },
     "execution_count": 23,
     "metadata": {},
     "output_type": "execute_result"
    }
   ],
   "source": [
    "df1.describe()"
   ]
  },
  {
   "cell_type": "code",
   "execution_count": 24,
   "metadata": {},
   "outputs": [],
   "source": [
    "df1.to_csv(\"teamselectionTrain.csv\", index = False)"
   ]
  },
  {
   "cell_type": "code",
   "execution_count": 25,
   "metadata": {},
   "outputs": [],
   "source": [
    "#create a second dataframe for the testing \n",
    "\n",
    "df2 = pd.DataFrame(np.random.randint(0,100,size=(75, 2)), columns=list('HW'))\n",
    "\n",
    "df2.rename(columns={'H':'Height'}, inplace=True)\n",
    "df2.rename(columns={'W':'Weight'}, inplace=True)\n",
    "\n",
    "df2['Weight'] = np.where(df2['Weight'], \n",
    "                       np.random.randint(49, 95, size=75), \n",
    "                       df2['Weight'])\n",
    "\n",
    "df2['Height'] = np.where(df2['Height'], \n",
    "                       np.random.randint(149, 195, size=75), \n",
    "                       df2['Weight'])"
   ]
  },
  {
   "cell_type": "code",
   "execution_count": 26,
   "metadata": {},
   "outputs": [],
   "source": [
    "df2.to_csv(\"teamselectionTest.csv\", index = False)"
   ]
  },
  {
   "cell_type": "markdown",
   "metadata": {},
   "source": [
    "## classification"
   ]
  },
  {
   "cell_type": "code",
   "execution_count": 27,
   "metadata": {},
   "outputs": [],
   "source": [
    "dataset_Train = pd.read_csv(\"teamselectionTrain.csv\")\n",
    "dataset_Test = pd.read_csv(\"teamselectionTest.csv\")"
   ]
  },
  {
   "cell_type": "code",
   "execution_count": 28,
   "metadata": {},
   "outputs": [
    {
     "data": {
      "text/plain": [
       "array([[156,  66],\n",
       "       [150,  88],\n",
       "       [165,  64],\n",
       "       [173,  83],\n",
       "       [160,  50]], dtype=int64)"
      ]
     },
     "execution_count": 28,
     "metadata": {},
     "output_type": "execute_result"
    }
   ],
   "source": [
    "# We're using all four measurements as inputs\n",
    "# Note that scikit-learn expects each entry to be a list of values, e.g.,\n",
    "# [ [val1, val2, val3],\n",
    "#   [val1, val2, val3],\n",
    "#   ... ]\n",
    "# such that our input data set is represented as a list of lists\n",
    "\n",
    "# We can extract the data in this format from pandas like this:\n",
    "all_inputs = dataset_Train[['Height', 'Weight']].values\n",
    "\n",
    "# Similarly, we can extract the class labels\n",
    "all_labels = dataset_Train['Selection'].values\n",
    "\n",
    "# Make sure that you don't mix up the order of the entries\n",
    "# all_inputs[5] inputs should correspond to the class in all_labels[5]\n",
    "\n",
    "# Here's what a subset of our inputs looks like:\n",
    "all_inputs[:5]"
   ]
  },
  {
   "cell_type": "code",
   "execution_count": 29,
   "metadata": {},
   "outputs": [],
   "source": [
    "#splitting our dataset into test and train\n",
    "from sklearn.model_selection import train_test_split\n",
    "\n",
    "(training_inputs,\n",
    " testing_inputs,\n",
    " training_classes,\n",
    " testing_classes) = train_test_split(all_inputs, all_labels, test_size=0.2, random_state=1)"
   ]
  },
  {
   "cell_type": "markdown",
   "metadata": {},
   "source": [
    "we're going to test a few models and see which one renders the best results"
   ]
  },
  {
   "cell_type": "markdown",
   "metadata": {},
   "source": [
    "decision tree"
   ]
  },
  {
   "cell_type": "code",
   "execution_count": 30,
   "metadata": {},
   "outputs": [
    {
     "data": {
      "text/plain": [
       "1.0"
      ]
     },
     "execution_count": 30,
     "metadata": {},
     "output_type": "execute_result"
    }
   ],
   "source": [
    "from sklearn.tree import DecisionTreeClassifier\n",
    "\n",
    "# Create the classifier\n",
    "decision_tree_classifier = DecisionTreeClassifier()\n",
    "\n",
    "# Train the classifier on the training set\n",
    "decision_tree_classifier.fit(training_inputs, training_classes)\n",
    "\n",
    "# Validate the classifier on the testing set using classification accuracy\n",
    "decision_tree_classifier.score(testing_inputs, testing_classes)"
   ]
  },
  {
   "cell_type": "code",
   "execution_count": 32,
   "metadata": {},
   "outputs": [
    {
     "data": {
      "text/plain": [
       "''"
      ]
     },
     "execution_count": 32,
     "metadata": {},
     "output_type": "execute_result"
    },
    {
     "data": {
      "image/png": "[encoded data removed]",
      "text/plain": [
       "<Figure size 432x288 with 1 Axes>"
      ]
     },
     "metadata": {
      "needs_background": "light"
     },
     "output_type": "display_data"
    }
   ],
   "source": [
    "import matplotlib.pyplot as plt\n",
    "model_accuracies = []\n",
    "decision_tree_classifier = DecisionTreeClassifier()\n",
    "\n",
    "for repetition in range(1000):\n",
    "    (training_inputs,\n",
    "     testing_inputs,\n",
    "     training_classes,\n",
    "     testing_classes) = train_test_split(all_inputs, all_labels, test_size=0.2)\n",
    "    \n",
    "    decision_tree_classifier.fit(training_inputs, training_classes)\n",
    "    classifier_accuracy = decision_tree_classifier.score(testing_inputs, testing_classes)\n",
    "    model_accuracies.append(classifier_accuracy)\n",
    "    \n",
    "plt.hist(model_accuracies)\n",
    ";"
   ]
  },
  {
   "cell_type": "code",
   "execution_count": 33,
   "metadata": {},
   "outputs": [
    {
     "data": {
      "image/png": "[encoded data removed]",
      "text/plain": [
       "<Figure size 1080x1080 with 1 Axes>"
      ]
     },
     "metadata": {
      "needs_background": "light"
     },
     "output_type": "display_data"
    }
   ],
   "source": [
    "#cross validation\n",
    "\n",
    "import numpy as np\n",
    "from sklearn.model_selection import StratifiedKFold\n",
    "\n",
    "def plot_cv(cv, features, labels):\n",
    "    masks = []\n",
    "    for train, test in cv.split(features, labels):\n",
    "        mask = np.zeros(len(labels), dtype=bool)\n",
    "        mask[test] = 1\n",
    "        masks.append(mask)\n",
    "    \n",
    "    plt.figure(figsize=(15, 15))\n",
    "    plt.imshow(masks, interpolation='none', cmap='gray_r')\n",
    "    plt.ylabel('Fold')\n",
    "    plt.xlabel('Row #')\n",
    "\n",
    "plot_cv(StratifiedKFold(n_splits=10), all_inputs, all_labels)"
   ]
  },
  {
   "cell_type": "code",
   "execution_count": 34,
   "metadata": {},
   "outputs": [
    {
     "data": {
      "text/plain": [
       "''"
      ]
     },
     "execution_count": 34,
     "metadata": {},
     "output_type": "execute_result"
    },
    {
     "data": {
      "image/png": "[encoded data removed]",
      "text/plain": [
       "<Figure size 432x288 with 1 Axes>"
      ]
     },
     "metadata": {
      "needs_background": "light"
     },
     "output_type": "display_data"
    }
   ],
   "source": [
    "from sklearn.model_selection import cross_val_score\n",
    "\n",
    "decision_tree_classifier = DecisionTreeClassifier()\n",
    "\n",
    "# cross_val_score returns a list of the scores, which we can visualize\n",
    "# to get a reasonable estimate of our classifier's performance\n",
    "cv_scores = cross_val_score(decision_tree_classifier, all_inputs, all_labels, cv=10)\n",
    "plt.hist(cv_scores)\n",
    "plt.title('Average score: {}'.format(np.mean(cv_scores)))\n",
    ";"
   ]
  },
  {
   "cell_type": "code",
   "execution_count": 35,
   "metadata": {},
   "outputs": [
    {
     "data": {
      "text/plain": [
       "''"
      ]
     },
     "execution_count": 35,
     "metadata": {},
     "output_type": "execute_result"
    },
    {
     "data": {
      "image/png": "[encoded data removed]",
      "text/plain": [
       "<Figure size 432x288 with 1 Axes>"
      ]
     },
     "metadata": {
      "needs_background": "light"
     },
     "output_type": "display_data"
    }
   ],
   "source": [
    "#parameters tuning\n",
    "\n",
    "decision_tree_classifier = DecisionTreeClassifier(max_depth=1)\n",
    "\n",
    "cv_scores = cross_val_score(decision_tree_classifier, all_inputs, all_labels, cv=10)\n",
    "plt.hist(cv_scores)\n",
    "plt.title('Average score: {}'.format(np.mean(cv_scores)))\n",
    ";"
   ]
  },
  {
   "cell_type": "code",
   "execution_count": 36,
   "metadata": {},
   "outputs": [
    {
     "name": "stdout",
     "output_type": "stream",
     "text": [
      "Best score: 0.9866666666666667\n",
      "Best parameters: {'max_depth': 3, 'max_features': 2}\n"
     ]
    }
   ],
   "source": [
    "from sklearn.model_selection import GridSearchCV\n",
    "\n",
    "decision_tree_classifier = DecisionTreeClassifier()\n",
    "\n",
    "parameter_grid = {'max_depth': [1, 2, 3],\n",
    "                  'max_features': [1, 2]}\n",
    "\n",
    "cross_validation = StratifiedKFold(n_splits=10)\n",
    "\n",
    "grid_search = GridSearchCV(decision_tree_classifier,\n",
    "                           param_grid=parameter_grid,\n",
    "                           cv=cross_validation)\n",
    "\n",
    "grid_search.fit(all_inputs, all_labels)\n",
    "print('Best score: {}'.format(grid_search.best_score_))\n",
    "print('Best parameters: {}'.format(grid_search.best_params_))"
   ]
  },
  {
   "cell_type": "code",
   "execution_count": 38,
   "metadata": {},
   "outputs": [
    {
     "data": {
      "text/plain": [
       "''"
      ]
     },
     "execution_count": 38,
     "metadata": {},
     "output_type": "execute_result"
    },
    {
     "data": {
      "image/png": "[encoded data removed]",
      "text/plain": [
       "<Figure size 432x288 with 2 Axes>"
      ]
     },
     "metadata": {
      "needs_background": "light"
     },
     "output_type": "display_data"
    }
   ],
   "source": [
    "import seaborn as sb\n",
    "grid_visualization = grid_search.cv_results_['mean_test_score']\n",
    "grid_visualization.shape = (3, 2)\n",
    "sb.heatmap(grid_visualization, cmap='Blues', annot=True)\n",
    "plt.xticks(np.arange(2) + 0.5, grid_search.param_grid['max_features'])\n",
    "plt.yticks(np.arange(3) + 0.5, grid_search.param_grid['max_depth'])\n",
    "plt.xlabel('max_features')\n",
    "plt.ylabel('max_depth')\n",
    ";"
   ]
  },
  {
   "cell_type": "code",
   "execution_count": 39,
   "metadata": {},
   "outputs": [
    {
     "name": "stdout",
     "output_type": "stream",
     "text": [
      "Best score: 0.9866666666666667\n",
      "Best parameters: {'criterion': 'gini', 'max_depth': 3, 'max_features': 2, 'splitter': 'best'}\n"
     ]
    }
   ],
   "source": [
    "decision_tree_classifier = DecisionTreeClassifier()\n",
    "\n",
    "parameter_grid = {'criterion': ['gini', 'entropy'],\n",
    "                  'splitter': ['best', 'random'],\n",
    "                  'max_depth': [1, 2, 3],\n",
    "                  'max_features': [1, 2]}\n",
    "\n",
    "cross_validation = StratifiedKFold(n_splits=10)\n",
    "\n",
    "grid_search = GridSearchCV(decision_tree_classifier,\n",
    "                           param_grid=parameter_grid,\n",
    "                           cv=cross_validation)\n",
    "\n",
    "grid_search.fit(all_inputs, all_labels)\n",
    "print('Best score: {}'.format(grid_search.best_score_))\n",
    "print('Best parameters: {}'.format(grid_search.best_params_))"
   ]
  },
  {
   "cell_type": "code",
   "execution_count": 40,
   "metadata": {},
   "outputs": [
    {
     "data": {
      "text/plain": [
       "DecisionTreeClassifier(max_depth=3, max_features=2)"
      ]
     },
     "execution_count": 40,
     "metadata": {},
     "output_type": "execute_result"
    }
   ],
   "source": [
    "decision_tree_classifier = grid_search.best_estimator_\n",
    "decision_tree_classifier"
   ]
  },
  {
   "cell_type": "code",
   "execution_count": 41,
   "metadata": {},
   "outputs": [],
   "source": [
    "import pickle\n",
    "pickle.dump(decision_tree_classifier, open(\"decision_tree_model.pkl\",'wb'))"
   ]
  },
  {
   "cell_type": "markdown",
   "metadata": {},
   "source": [
    "random forest"
   ]
  },
  {
   "cell_type": "code",
   "execution_count": 42,
   "metadata": {},
   "outputs": [
    {
     "name": "stdout",
     "output_type": "stream",
     "text": [
      "Best score: 0.99\n",
      "Best parameters: {'criterion': 'gini', 'max_features': 1, 'n_estimators': 25}\n"
     ]
    },
    {
     "data": {
      "text/plain": [
       "RandomForestClassifier(max_features=1, n_estimators=25)"
      ]
     },
     "execution_count": 42,
     "metadata": {},
     "output_type": "execute_result"
    }
   ],
   "source": [
    "from sklearn.ensemble import RandomForestClassifier #adaboost xgboost\n",
    "\n",
    "random_forest_classifier = RandomForestClassifier()\n",
    "\n",
    "parameter_grid = {'n_estimators': [10, 25, 50, 100],\n",
    "                  'criterion': ['gini', 'entropy'],\n",
    "                  'max_features': [1, 2]}\n",
    "\n",
    "cross_validation = StratifiedKFold(n_splits=10)\n",
    "\n",
    "grid_search = GridSearchCV(random_forest_classifier,\n",
    "                           param_grid=parameter_grid,\n",
    "                           cv=cross_validation)\n",
    "\n",
    "grid_search.fit(all_inputs, all_labels)\n",
    "print('Best score: {}'.format(grid_search.best_score_))\n",
    "print('Best parameters: {}'.format(grid_search.best_params_))\n",
    "\n",
    "grid_search.best_estimator_"
   ]
  },
  {
   "cell_type": "code",
   "execution_count": 43,
   "metadata": {},
   "outputs": [
    {
     "data": {
      "text/plain": [
       "''"
      ]
     },
     "execution_count": 43,
     "metadata": {},
     "output_type": "execute_result"
    },
    {
     "data": {
      "image/png": "[encoded data removed]",
      "text/plain": [
       "<Figure size 432x288 with 1 Axes>"
      ]
     },
     "metadata": {
      "needs_background": "light"
     },
     "output_type": "display_data"
    }
   ],
   "source": [
    "random_forest_classifier = grid_search.best_estimator_\n",
    "\n",
    "rf_df = pd.DataFrame({'accuracy': cross_val_score(random_forest_classifier, all_inputs, all_labels, cv=10),\n",
    "                       'classifier': ['Random Forest'] * 10})\n",
    "dt_df = pd.DataFrame({'accuracy': cross_val_score(decision_tree_classifier, all_inputs, all_labels, cv=10),\n",
    "                      'classifier': ['Decision Tree'] * 10})\n",
    "both_df = rf_df.append(dt_df)\n",
    "\n",
    "sb.boxplot(x='classifier', y='accuracy', data=both_df)\n",
    "sb.stripplot(x='classifier', y='accuracy', data=both_df, jitter=True, color='black')\n",
    ";"
   ]
  },
  {
   "cell_type": "markdown",
   "metadata": {},
   "source": [
    "knn"
   ]
  },
  {
   "cell_type": "code",
   "execution_count": 44,
   "metadata": {},
   "outputs": [
    {
     "name": "stdout",
     "output_type": "stream",
     "text": [
      "0.9666666666666667\n"
     ]
    }
   ],
   "source": [
    "from sklearn.neighbors import KNeighborsClassifier\n",
    "from sklearn import metrics\n",
    "\n",
    "knn = KNeighborsClassifier(n_neighbors=1)\n",
    "knn.fit(training_inputs, training_classes)\n",
    "y_pred = knn.predict(testing_inputs)\n",
    "print(metrics.accuracy_score(testing_classes, y_pred))"
   ]
  },
  {
   "cell_type": "code",
   "execution_count": 45,
   "metadata": {},
   "outputs": [
    {
     "name": "stdout",
     "output_type": "stream",
     "text": [
      "[0.9666666666666667, 0.9666666666666667, 0.9666666666666667, 0.9833333333333333, 0.9833333333333333, 0.9666666666666667, 0.9666666666666667, 0.9666666666666667, 0.95, 0.9666666666666667, 0.9666666666666667, 0.9666666666666667, 0.9833333333333333, 0.9666666666666667, 0.9666666666666667, 0.9666666666666667, 0.9666666666666667, 0.9666666666666667, 0.9666666666666667, 0.9666666666666667, 0.95, 0.95, 0.95, 0.9666666666666667, 0.9666666666666667]\n"
     ]
    }
   ],
   "source": [
    "# try K=1 through K=25 and record testing accuracy\n",
    "k_range = range(1, 26)\n",
    "\n",
    "# We can create Python dictionary using [] or dict()\n",
    "scores = []\n",
    "\n",
    "# We use a loop through the range 1 to 26\n",
    "# We append the scores in the dictionary\n",
    "for k in k_range:\n",
    "    knn = KNeighborsClassifier(n_neighbors=k)\n",
    "    knn.fit(training_inputs, training_classes)\n",
    "    y_pred = knn.predict(testing_inputs)\n",
    "    scores.append(metrics.accuracy_score(testing_classes, y_pred))\n",
    "\n",
    "print(scores)"
   ]
  },
  {
   "cell_type": "code",
   "execution_count": 46,
   "metadata": {},
   "outputs": [
    {
     "data": {
      "text/plain": [
       "Text(0, 0.5, 'Testing Accuracy')"
      ]
     },
     "execution_count": 46,
     "metadata": {},
     "output_type": "execute_result"
    },
    {
     "data": {
      "image/png": "[encoded data removed]",
      "text/plain": [
       "<Figure size 432x288 with 1 Axes>"
      ]
     },
     "metadata": {
      "needs_background": "light"
     },
     "output_type": "display_data"
    }
   ],
   "source": [
    "# import Matplotlib (scientific plotting library)\n",
    "import matplotlib.pyplot as plt\n",
    "\n",
    "# allow plots to appear within the notebook\n",
    "%matplotlib inline\n",
    "\n",
    "# plot the relationship between K and testing accuracy\n",
    "# plt.plot(x_axis, y_axis)\n",
    "plt.plot(k_range, scores)\n",
    "plt.xlabel('Value of K for KNN')\n",
    "plt.ylabel('Testing Accuracy')"
   ]
  },
  {
   "cell_type": "code",
   "execution_count": 47,
   "metadata": {},
   "outputs": [
    {
     "name": "stdout",
     "output_type": "stream",
     "text": [
      "Best score: 0.9866666666666667\n",
      "Best parameters: {'metric': 'euclidean', 'n_neighbors': 4, 'weights': 'uniform'}\n"
     ]
    },
    {
     "data": {
      "text/plain": [
       "KNeighborsClassifier(metric='euclidean', n_neighbors=4)"
      ]
     },
     "execution_count": 47,
     "metadata": {},
     "output_type": "execute_result"
    }
   ],
   "source": [
    "from sklearn.neighbors import KNeighborsClassifier\n",
    "k_neighors_classifier = KNeighborsClassifier()\n",
    "\n",
    "parameter_grid = {'n_neighbors': [1,2,3,4,5,6,7,8,9,10,11,12,13,14,15,16,17,18,19,20,21,22,23,24,25,26,27,28,29,30,31],\n",
    "                  'weights': ['uniform', 'distance'],\n",
    "                  'metric': ['euclidean', 'manhattan']}\n",
    "\n",
    "cross_validation = StratifiedKFold(n_splits=10)\n",
    "\n",
    "grid_search = GridSearchCV(k_neighors_classifier,\n",
    "                           param_grid=parameter_grid,\n",
    "                           cv=cross_validation,\n",
    "                           n_jobs=-1)\n",
    "\n",
    "grid_search.fit(all_inputs, all_labels)\n",
    "print('Best score: {}'.format(grid_search.best_score_))\n",
    "print('Best parameters: {}'.format(grid_search.best_params_))\n",
    "\n",
    "grid_search.best_estimator_"
   ]
  },
  {
   "cell_type": "code",
   "execution_count": 48,
   "metadata": {},
   "outputs": [
    {
     "name": "stdout",
     "output_type": "stream",
     "text": [
      "[184  88]\t-->\t1\t(Actual: 1)\n",
      "[190  94]\t-->\t1\t(Actual: 1)\n",
      "[149  86]\t-->\t0\t(Actual: 0)\n",
      "[170  80]\t-->\t1\t(Actual: 1)\n",
      "[153  61]\t-->\t0\t(Actual: 0)\n",
      "[181  81]\t-->\t1\t(Actual: 1)\n",
      "[185  88]\t-->\t1\t(Actual: 1)\n",
      "[155  68]\t-->\t0\t(Actual: 0)\n",
      "[192  93]\t-->\t1\t(Actual: 1)\n",
      "[190  60]\t-->\t1\t(Actual: 1)\n"
     ]
    },
    {
     "data": {
      "image/png": "[encoded data removed]",
      "text/plain": [
       "<Figure size 432x288 with 1 Axes>"
      ]
     },
     "metadata": {
      "needs_background": "light"
     },
     "output_type": "display_data"
    }
   ],
   "source": [
    "%matplotlib inline\n",
    "import pandas as pd\n",
    "import seaborn as sb\n",
    "from sklearn.ensemble import RandomForestClassifier\n",
    "from sklearn.model_selection import train_test_split, cross_val_score\n",
    "\n",
    "# We can jump directly to working with the clean data because we saved our cleaned data set\n",
    "data_clean = pd.read_csv('teamselectionTrain.csv')\n",
    "\n",
    "\n",
    "\n",
    "all_inputs = data_clean[['Height', 'Weight']].values\n",
    "\n",
    "all_labels = data_clean['Selection'].values\n",
    "\n",
    "# This is the classifier that came out of Grid Search\n",
    "random_forest_classifier = RandomForestClassifier(criterion='gini', max_features=2, n_estimators=50)\n",
    "\n",
    "# All that's left to do now is plot the cross-validation scores\n",
    "rf_classifier_scores = cross_val_score(random_forest_classifier, all_inputs, all_labels, cv=10)\n",
    "sb.boxplot(rf_classifier_scores)\n",
    "sb.stripplot(rf_classifier_scores, jitter=True, color='black')\n",
    "\n",
    "# ...and show some of the predictions from the classifier\n",
    "(training_inputs,\n",
    " testing_inputs,\n",
    " training_classes,\n",
    " testing_classes) = train_test_split(all_inputs, all_labels, test_size=0.2)\n",
    "\n",
    "random_forest_classifier.fit(training_inputs, training_classes)\n",
    "\n",
    "for input_features, prediction, actual in zip(testing_inputs[:10],\n",
    "                                              random_forest_classifier.predict(testing_inputs[:10]),\n",
    "                                              testing_classes[:10]):\n",
    "    print('{}\\t-->\\t{}\\t(Actual: {})'.format(input_features, prediction, actual))"
   ]
  },
  {
   "cell_type": "code",
   "execution_count": 49,
   "metadata": {},
   "outputs": [
    {
     "name": "stdout",
     "output_type": "stream",
     "text": [
      "[176  75]\t-->\t1\t(Actual: 1)\n",
      "[164  79]\t-->\t0\t(Actual: 0)\n",
      "[170  65]\t-->\t1\t(Actual: 1)\n",
      "[186  58]\t-->\t1\t(Actual: 1)\n",
      "[191  89]\t-->\t1\t(Actual: 1)\n",
      "[169  55]\t-->\t1\t(Actual: 1)\n",
      "[178  77]\t-->\t1\t(Actual: 1)\n",
      "[160  66]\t-->\t0\t(Actual: 0)\n",
      "[187  81]\t-->\t1\t(Actual: 1)\n",
      "[180  82]\t-->\t1\t(Actual: 1)\n"
     ]
    },
    {
     "data": {
      "image/png": "[encoded data removed]",
      "text/plain": [
       "<Figure size 432x288 with 1 Axes>"
      ]
     },
     "metadata": {
      "needs_background": "light"
     },
     "output_type": "display_data"
    }
   ],
   "source": [
    "%matplotlib inline\n",
    "import pandas as pd\n",
    "import seaborn as sb\n",
    "from sklearn.neighbors import KNeighborsClassifier\n",
    "from sklearn.model_selection import train_test_split, cross_val_score\n",
    "\n",
    "# We can jump directly to working with the clean data because we saved our cleaned data set\n",
    "data_clean = pd.read_csv('teamselectionTrain.csv')\n",
    "\n",
    "\n",
    "\n",
    "all_inputs = data_clean[['Height', 'Weight']].values\n",
    "\n",
    "all_labels = data_clean['Selection'].values\n",
    "\n",
    "# This is the classifier that came out of Grid Search\n",
    "k_neighors_classifier = KNeighborsClassifier(metric='euclidean', n_neighbors=28, weights= 'distance')\n",
    "\n",
    "# All that's left to do now is plot the cross-validation scores\n",
    "knn_classifier_scores = cross_val_score(k_neighors_classifier, all_inputs, all_labels, cv=10)\n",
    "sb.boxplot(knn_classifier_scores)\n",
    "sb.stripplot(knn_classifier_scores, jitter=True, color='black')\n",
    "\n",
    "# ...and show some of the predictions from the classifier\n",
    "(training_inputs,\n",
    " testing_inputs,\n",
    " training_classes,\n",
    " testing_classes) = train_test_split(all_inputs, all_labels, test_size=0.2)\n",
    "\n",
    "k_neighors_classifier.fit(training_inputs, training_classes)\n",
    "\n",
    "for input_features, prediction, actual in zip(testing_inputs[:10],\n",
    "                                              k_neighors_classifier.predict(testing_inputs[:10]),\n",
    "                                              testing_classes[:10]):\n",
    "    print('{}\\t-->\\t{}\\t(Actual: {})'.format(input_features, prediction, actual))"
   ]
  },
  {
   "cell_type": "code",
   "execution_count": 50,
   "metadata": {},
   "outputs": [],
   "source": [
    "import pickle\n",
    "pickle.dump(k_neighors_classifier, open(\"knn_model.pkl\",'wb'))"
   ]
  },
  {
   "cell_type": "markdown",
   "metadata": {},
   "source": [
    "# song recommendation system"
   ]
  },
  {
   "cell_type": "markdown",
   "metadata": {},
   "source": [
    "for this recommendation system i used an online tool to download a spotify playlist of mine in csv form (https://rawgit.com/watsonbox/exportify/master/exportify.html)"
   ]
  },
  {
   "cell_type": "code",
   "execution_count": 51,
   "metadata": {},
   "outputs": [
    {
     "data": {
      "text/html": [
       "<div>\n",
       "<style scoped>\n",
       "    .dataframe tbody tr th:only-of-type {\n",
       "        vertical-align: middle;\n",
       "    }\n",
       "\n",
       "    .dataframe tbody tr th {\n",
       "        vertical-align: top;\n",
       "    }\n",
       "\n",
       "    .dataframe thead th {\n",
       "        text-align: right;\n",
       "    }\n",
       "</style>\n",
       "<table border=\"1\" class=\"dataframe\">\n",
       "  <thead>\n",
       "    <tr style=\"text-align: right;\">\n",
       "      <th></th>\n",
       "      <th>﻿Spotify URI</th>\n",
       "      <th>Track Name</th>\n",
       "      <th>Artist Name</th>\n",
       "      <th>Album Name</th>\n",
       "      <th>Disc Number</th>\n",
       "      <th>Track Number</th>\n",
       "      <th>Track Duration (ms)</th>\n",
       "      <th>Added By</th>\n",
       "      <th>Added At</th>\n",
       "    </tr>\n",
       "  </thead>\n",
       "  <tbody>\n",
       "    <tr>\n",
       "      <th>0</th>\n",
       "      <td>spotify:track:4u7EnebtmKWzUH433cf5Qv</td>\n",
       "      <td>Bohemian Rhapsody - 2011 Mix</td>\n",
       "      <td>Queen</td>\n",
       "      <td>A Night At The Opera (2011 Remaster)</td>\n",
       "      <td>1</td>\n",
       "      <td>11</td>\n",
       "      <td>354320</td>\n",
       "      <td>spotify:user:12169871666</td>\n",
       "      <td>2020-02-17T19:10:59Z</td>\n",
       "    </tr>\n",
       "    <tr>\n",
       "      <th>1</th>\n",
       "      <td>spotify:track:2D4BSm5Z8Hq5zYbSgJwEOh</td>\n",
       "      <td>She Used To Be Mine</td>\n",
       "      <td>Sara Bareilles</td>\n",
       "      <td>What's Inside: Songs from Waitress</td>\n",
       "      <td>1</td>\n",
       "      <td>10</td>\n",
       "      <td>250266</td>\n",
       "      <td>spotify:user:12169871666</td>\n",
       "      <td>2020-02-17T19:11:22Z</td>\n",
       "    </tr>\n",
       "    <tr>\n",
       "      <th>2</th>\n",
       "      <td>spotify:track:1CGQTaQVVfA0CNae8IwPyC</td>\n",
       "      <td>Bad as the Boys (feat. ALMA)</td>\n",
       "      <td>Tove Lo, ALMA</td>\n",
       "      <td>Sunshine Kitty</td>\n",
       "      <td>1</td>\n",
       "      <td>3</td>\n",
       "      <td>186555</td>\n",
       "      <td>spotify:user:12169871666</td>\n",
       "      <td>2020-02-17T19:11:51Z</td>\n",
       "    </tr>\n",
       "    <tr>\n",
       "      <th>3</th>\n",
       "      <td>spotify:track:1SFDYObi6lB3MpiIkWTXla</td>\n",
       "      <td>Opium</td>\n",
       "      <td>The New Division</td>\n",
       "      <td>Shadows</td>\n",
       "      <td>1</td>\n",
       "      <td>1</td>\n",
       "      <td>320022</td>\n",
       "      <td>spotify:user:12169871666</td>\n",
       "      <td>2020-02-17T19:12:18Z</td>\n",
       "    </tr>\n",
       "    <tr>\n",
       "      <th>4</th>\n",
       "      <td>spotify:track:2k6oLQC0nAw99WL1euDWdG</td>\n",
       "      <td>PAPI</td>\n",
       "      <td>Isabela Merced</td>\n",
       "      <td>PAPI</td>\n",
       "      <td>1</td>\n",
       "      <td>1</td>\n",
       "      <td>150266</td>\n",
       "      <td>spotify:user:12169871666</td>\n",
       "      <td>2020-02-17T19:12:23Z</td>\n",
       "    </tr>\n",
       "  </tbody>\n",
       "</table>\n",
       "</div>"
      ],
      "text/plain": [
       "                           ﻿Spotify URI                    Track Name  \\\n",
       "0  spotify:track:4u7EnebtmKWzUH433cf5Qv  Bohemian Rhapsody - 2011 Mix   \n",
       "1  spotify:track:2D4BSm5Z8Hq5zYbSgJwEOh           She Used To Be Mine   \n",
       "2  spotify:track:1CGQTaQVVfA0CNae8IwPyC  Bad as the Boys (feat. ALMA)   \n",
       "3  spotify:track:1SFDYObi6lB3MpiIkWTXla                         Opium   \n",
       "4  spotify:track:2k6oLQC0nAw99WL1euDWdG                          PAPI   \n",
       "\n",
       "        Artist Name                            Album Name  Disc Number  \\\n",
       "0             Queen  A Night At The Opera (2011 Remaster)            1   \n",
       "1    Sara Bareilles    What's Inside: Songs from Waitress            1   \n",
       "2     Tove Lo, ALMA                        Sunshine Kitty            1   \n",
       "3  The New Division                               Shadows            1   \n",
       "4    Isabela Merced                                  PAPI            1   \n",
       "\n",
       "   Track Number  Track Duration (ms)                  Added By  \\\n",
       "0            11               354320  spotify:user:12169871666   \n",
       "1            10               250266  spotify:user:12169871666   \n",
       "2             3               186555  spotify:user:12169871666   \n",
       "3             1               320022  spotify:user:12169871666   \n",
       "4             1               150266  spotify:user:12169871666   \n",
       "\n",
       "               Added At  \n",
       "0  2020-02-17T19:10:59Z  \n",
       "1  2020-02-17T19:11:22Z  \n",
       "2  2020-02-17T19:11:51Z  \n",
       "3  2020-02-17T19:12:18Z  \n",
       "4  2020-02-17T19:12:23Z  "
      ]
     },
     "execution_count": 51,
     "metadata": {},
     "output_type": "execute_result"
    }
   ],
   "source": [
    "import pandas as pd\n",
    "from rake_nltk import Rake\n",
    "import numpy as np\n",
    "from sklearn.metrics.pairwise import cosine_similarity\n",
    "from sklearn.feature_extraction.text import CountVectorizer\n",
    "\n",
    "#pd.set_option('display.max_columns', 100)\n",
    "df = pd.read_csv('songs_i_rarely_ever_skip.csv')\n",
    "df.head()"
   ]
  },
  {
   "cell_type": "code",
   "execution_count": 52,
   "metadata": {},
   "outputs": [
    {
     "data": {
      "text/plain": [
       "(169, 9)"
      ]
     },
     "execution_count": 52,
     "metadata": {},
     "output_type": "execute_result"
    }
   ],
   "source": [
    "df.shape"
   ]
  },
  {
   "cell_type": "code",
   "execution_count": 53,
   "metadata": {},
   "outputs": [
    {
     "data": {
      "text/html": [
       "<div>\n",
       "<style scoped>\n",
       "    .dataframe tbody tr th:only-of-type {\n",
       "        vertical-align: middle;\n",
       "    }\n",
       "\n",
       "    .dataframe tbody tr th {\n",
       "        vertical-align: top;\n",
       "    }\n",
       "\n",
       "    .dataframe thead th {\n",
       "        text-align: right;\n",
       "    }\n",
       "</style>\n",
       "<table border=\"1\" class=\"dataframe\">\n",
       "  <thead>\n",
       "    <tr style=\"text-align: right;\">\n",
       "      <th></th>\n",
       "      <th>Artist Name</th>\n",
       "      <th>Track Name</th>\n",
       "      <th>Album Name</th>\n",
       "    </tr>\n",
       "  </thead>\n",
       "  <tbody>\n",
       "    <tr>\n",
       "      <th>0</th>\n",
       "      <td>Queen</td>\n",
       "      <td>Bohemian Rhapsody - 2011 Mix</td>\n",
       "      <td>A Night At The Opera (2011 Remaster)</td>\n",
       "    </tr>\n",
       "    <tr>\n",
       "      <th>1</th>\n",
       "      <td>Sara Bareilles</td>\n",
       "      <td>She Used To Be Mine</td>\n",
       "      <td>What's Inside: Songs from Waitress</td>\n",
       "    </tr>\n",
       "    <tr>\n",
       "      <th>2</th>\n",
       "      <td>Tove Lo, ALMA</td>\n",
       "      <td>Bad as the Boys (feat. ALMA)</td>\n",
       "      <td>Sunshine Kitty</td>\n",
       "    </tr>\n",
       "    <tr>\n",
       "      <th>3</th>\n",
       "      <td>The New Division</td>\n",
       "      <td>Opium</td>\n",
       "      <td>Shadows</td>\n",
       "    </tr>\n",
       "    <tr>\n",
       "      <th>4</th>\n",
       "      <td>Isabela Merced</td>\n",
       "      <td>PAPI</td>\n",
       "      <td>PAPI</td>\n",
       "    </tr>\n",
       "  </tbody>\n",
       "</table>\n",
       "</div>"
      ],
      "text/plain": [
       "        Artist Name                    Track Name  \\\n",
       "0             Queen  Bohemian Rhapsody - 2011 Mix   \n",
       "1    Sara Bareilles           She Used To Be Mine   \n",
       "2     Tove Lo, ALMA  Bad as the Boys (feat. ALMA)   \n",
       "3  The New Division                         Opium   \n",
       "4    Isabela Merced                          PAPI   \n",
       "\n",
       "                             Album Name  \n",
       "0  A Night At The Opera (2011 Remaster)  \n",
       "1    What's Inside: Songs from Waitress  \n",
       "2                        Sunshine Kitty  \n",
       "3                               Shadows  \n",
       "4                                  PAPI  "
      ]
     },
     "execution_count": 53,
     "metadata": {},
     "output_type": "execute_result"
    }
   ],
   "source": [
    "#choosing the colmuns i want to base my recommendation upon\n",
    "df = df[['Artist Name','Track Name','Album Name']]\n",
    "df.head()"
   ]
  },
  {
   "cell_type": "code",
   "execution_count": 54,
   "metadata": {},
   "outputs": [],
   "source": [
    "#renaming the colmuns to avoid errors\n",
    "df= df.rename(columns={'Artist Name':'artist','Track Name':'track','Album Name':'album'})"
   ]
  },
  {
   "cell_type": "code",
   "execution_count": 55,
   "metadata": {},
   "outputs": [
    {
     "data": {
      "text/html": [
       "<div>\n",
       "<style scoped>\n",
       "    .dataframe tbody tr th:only-of-type {\n",
       "        vertical-align: middle;\n",
       "    }\n",
       "\n",
       "    .dataframe tbody tr th {\n",
       "        vertical-align: top;\n",
       "    }\n",
       "\n",
       "    .dataframe thead th {\n",
       "        text-align: right;\n",
       "    }\n",
       "</style>\n",
       "<table border=\"1\" class=\"dataframe\">\n",
       "  <thead>\n",
       "    <tr style=\"text-align: right;\">\n",
       "      <th></th>\n",
       "      <th>artist</th>\n",
       "      <th>track</th>\n",
       "      <th>album</th>\n",
       "    </tr>\n",
       "  </thead>\n",
       "  <tbody>\n",
       "    <tr>\n",
       "      <th>0</th>\n",
       "      <td>Queen</td>\n",
       "      <td>Bohemian Rhapsody - 2011 Mix</td>\n",
       "      <td>A Night At The Opera (2011 Remaster)</td>\n",
       "    </tr>\n",
       "    <tr>\n",
       "      <th>1</th>\n",
       "      <td>Sara Bareilles</td>\n",
       "      <td>She Used To Be Mine</td>\n",
       "      <td>What's Inside: Songs from Waitress</td>\n",
       "    </tr>\n",
       "    <tr>\n",
       "      <th>2</th>\n",
       "      <td>Tove Lo, ALMA</td>\n",
       "      <td>Bad as the Boys (feat. ALMA)</td>\n",
       "      <td>Sunshine Kitty</td>\n",
       "    </tr>\n",
       "    <tr>\n",
       "      <th>3</th>\n",
       "      <td>The New Division</td>\n",
       "      <td>Opium</td>\n",
       "      <td>Shadows</td>\n",
       "    </tr>\n",
       "    <tr>\n",
       "      <th>4</th>\n",
       "      <td>Isabela Merced</td>\n",
       "      <td>PAPI</td>\n",
       "      <td>PAPI</td>\n",
       "    </tr>\n",
       "  </tbody>\n",
       "</table>\n",
       "</div>"
      ],
      "text/plain": [
       "             artist                         track  \\\n",
       "0             Queen  Bohemian Rhapsody - 2011 Mix   \n",
       "1    Sara Bareilles           She Used To Be Mine   \n",
       "2     Tove Lo, ALMA  Bad as the Boys (feat. ALMA)   \n",
       "3  The New Division                         Opium   \n",
       "4    Isabela Merced                          PAPI   \n",
       "\n",
       "                                  album  \n",
       "0  A Night At The Opera (2011 Remaster)  \n",
       "1    What's Inside: Songs from Waitress  \n",
       "2                        Sunshine Kitty  \n",
       "3                               Shadows  \n",
       "4                                  PAPI  "
      ]
     },
     "execution_count": 55,
     "metadata": {},
     "output_type": "execute_result"
    }
   ],
   "source": [
    "df.head()"
   ]
  },
  {
   "cell_type": "code",
   "execution_count": 56,
   "metadata": {},
   "outputs": [],
   "source": [
    "#gathering all the titles in one list to later use in our flask api\n",
    "all_titles = [df['track'][i] for i in range(len(df['track']))]"
   ]
  },
  {
   "cell_type": "code",
   "execution_count": 57,
   "metadata": {},
   "outputs": [
    {
     "data": {
      "text/plain": [
       "['Bohemian Rhapsody - 2011 Mix',\n",
       " 'She Used To Be Mine',\n",
       " 'Bad as the Boys (feat. ALMA)',\n",
       " 'Opium',\n",
       " 'PAPI',\n",
       " 'Primadonna',\n",
       " 'Raising Hell (feat. Big Freedia)',\n",
       " 'Season Of The Witch',\n",
       " 'Teenage Dream',\n",
       " 'S&M',\n",
       " 'Toxic',\n",
       " 'Hard out Here',\n",
       " 'Sweet but Psycho',\n",
       " 'I Kissed A Girl',\n",
       " 'Criminal',\n",
       " 'Sk8er Boi',\n",
       " 'Estrangers',\n",
       " 'Re: Stacks',\n",
       " 'Feel Good Inc.',\n",
       " 'Hard Times',\n",
       " 'Fireflies',\n",
       " 'A Thousand Miles',\n",
       " 'Hey There Delilah',\n",
       " 'Soda Shop',\n",
       " 'Still into You',\n",
       " 'Natalie Portman 2002',\n",
       " 'Crush',\n",
       " 'Kaitlin',\n",
       " \"Don't Stop Me Now - 2011 Mix\",\n",
       " 'Take on Me',\n",
       " 'I Want You to Want Me',\n",
       " \"I Won't Say (I'm In Love)\",\n",
       " 'Apex Predator',\n",
       " \"Kiss Me, I'm Shitfaced\",\n",
       " 'Kiss from a Rose',\n",
       " 'To Build A Home',\n",
       " 'Ojos Así',\n",
       " 'Vindicated',\n",
       " 'Echo Beach',\n",
       " 'Bubblegum Bitch',\n",
       " 'We R Who We R',\n",
       " \"Doin' Time\",\n",
       " 'ROCKSTAR 101',\n",
       " 'Lost My Mind',\n",
       " 'Hey, Ma',\n",
       " 'Skinny Love',\n",
       " 'Clint Eastwood',\n",
       " 'Ignorance',\n",
       " 'Fight For Your Right',\n",
       " 'Girl on Fire',\n",
       " 'No Scrubs',\n",
       " 'Waterfalls',\n",
       " 'Hey Ya!',\n",
       " 'Price Tag',\n",
       " 'Irreplaceable',\n",
       " 'Happy Together',\n",
       " \"Friday I'm In Love\",\n",
       " 'Rebel Rebel - 2016 Remaster',\n",
       " 'Before He Cheats',\n",
       " 'Carried Away',\n",
       " \"That Don't Impress Me Much\",\n",
       " 'One Way Or Another',\n",
       " 'Pump It Up',\n",
       " 'Jolene',\n",
       " 'Hercules',\n",
       " 'Lost At Sea',\n",
       " 'Satellite',\n",
       " 'Mr. Blue Sky',\n",
       " 'Rosalie Come And Go',\n",
       " 'Mr. Brightside',\n",
       " 'Romeo And Juliet',\n",
       " 'Snow (Hey Oh)',\n",
       " 'Raise Your Glass',\n",
       " 'Super Trouper',\n",
       " 'Mamma Mia',\n",
       " 'Finest Girl (Bin Laden Song)',\n",
       " 'Shut Up and Dance',\n",
       " 'Wake Me Up Before You Go-Go - Remastered',\n",
       " 'Got My Mind Set On You - 2009 Mix',\n",
       " 'The Fish Cheer / I-Feel-Like-I’m-Fixin’-To Die Rag',\n",
       " 'Helplessly Hoping - 2005 Remaster',\n",
       " 'Juicy',\n",
       " 'In Da Club',\n",
       " 'After Hours',\n",
       " 'Turning Japanese - Non Stop Edit',\n",
       " 'The Look',\n",
       " 'Bastardo',\n",
       " 'Galway Girl',\n",
       " \"Glad He's Gone\",\n",
       " 'No Distraction',\n",
       " 'Gamma Knife',\n",
       " 'Dark Necessities',\n",
       " 'Tilted',\n",
       " 'Shut Up Kiss Me',\n",
       " 'A New Beginning',\n",
       " 'Ch-Ching',\n",
       " 'In Waves',\n",
       " 'Slip Away',\n",
       " 'Hear This',\n",
       " 'D.R.U.G.S.',\n",
       " 'Missionary Position',\n",
       " 'Nobody Speak',\n",
       " 'ATTITUDE',\n",
       " 'Money',\n",
       " 'Super Trouper',\n",
       " 'Words',\n",
       " 'Seasons of Love',\n",
       " 'Take Me or Leave Me',\n",
       " 'Hooked On A Feeling',\n",
       " 'Gotta Get Up - As heard in the Netflix series Russian Doll',\n",
       " 'Sing A Happy Song',\n",
       " 'Toxic',\n",
       " 'Lollipop - From Pitch Perfect 2\" Soundtrack\"',\n",
       " 'Elevate (feat. Denzel Curry, YBN Cordae, SwaVay, Trevor Rich)',\n",
       " 'Garbage Truck',\n",
       " 'Black Sheep',\n",
       " 'Agony',\n",
       " 'Arabian Nights (2019)',\n",
       " 'Action Reaction',\n",
       " 'Say My Name',\n",
       " 'Le Sens de la vie',\n",
       " 'US Boy',\n",
       " 'I Want It That Way',\n",
       " 'All I Want for Christmas Is You',\n",
       " 'Babies',\n",
       " \"Freedom! '90 - Remastered\",\n",
       " 'Little Talks',\n",
       " 'Shower',\n",
       " 'Ho Hey',\n",
       " 'Complicated',\n",
       " 'Rich Girl',\n",
       " 'Army Dreamers - 2018 Remaster',\n",
       " \"Boys Don't Cry\",\n",
       " 'Every Little Thing She Does Is Magic - Remastered 2003',\n",
       " 'Total Eclipse of the Heart',\n",
       " 'Under Pressure - Remastered',\n",
       " 'Crush on You',\n",
       " \"Don't Go Breaking My Heart\",\n",
       " 'Please Mr. Postman',\n",
       " 'Because the Night',\n",
       " 'Psycho Killer - 2005 Remaster',\n",
       " 'My Sharona',\n",
       " 'Lady Marmalade - From Moulin Rouge\" Soundtrack\"',\n",
       " 'September',\n",
       " 'Lucky You - Remastered',\n",
       " 'Sad Dream',\n",
       " 'No Promises',\n",
       " 'Mayores',\n",
       " 'Feeling Good',\n",
       " 'Balance ton quoi',\n",
       " 'I Wanna Get Better',\n",
       " 'Till the World Ends',\n",
       " 'I Wanna Go',\n",
       " 'When I R.I.P.',\n",
       " 'Never Been in Love (feat. Icona Pop)',\n",
       " 'Common People',\n",
       " 'Untouched',\n",
       " 'Fior Di Latte',\n",
       " 'Young Blood - Acoustic',\n",
       " 'We',\n",
       " 'Under the Sun',\n",
       " 'Trash Blossoms',\n",
       " 'Stranglehold',\n",
       " 'Really Something',\n",
       " 'Question for the Angels',\n",
       " 'Apples',\n",
       " 'Trigger Bang (feat. Giggs)',\n",
       " \"(Joe Gets Kicked Out of School for Using) Drugs With Friends (But Says This Isn't a Problem)\",\n",
       " 'Dead Horse']"
      ]
     },
     "execution_count": 57,
     "metadata": {},
     "output_type": "execute_result"
    }
   ],
   "source": [
    "all_titles"
   ]
  },
  {
   "cell_type": "markdown",
   "metadata": {},
   "source": [
    "transforming the artists names and albums into single words so that they become unique values"
   ]
  },
  {
   "cell_type": "code",
   "execution_count": 58,
   "metadata": {},
   "outputs": [],
   "source": [
    "# discarding the commas between the artists' full names and getting only the first three names\n",
    "df['artist'] = df['artist'].map(lambda x: x.split(',')[:3])\n",
    "\n",
    "# putting the genres in a list of words\n",
    "df['album'] = df['album'].map(lambda x: x.lower().split(',')[:4])\n",
    "\n",
    "# merging together first and last name for each singer, so it's considered as one word \n",
    "# and there is no mix up between people sharing a first name\n",
    "for index, row in df.iterrows():\n",
    "    row['artist'] = [x.lower().replace(' ','') for x in row['artist']]"
   ]
  },
  {
   "cell_type": "code",
   "execution_count": 59,
   "metadata": {},
   "outputs": [
    {
     "data": {
      "text/html": [
       "<div>\n",
       "<style scoped>\n",
       "    .dataframe tbody tr th:only-of-type {\n",
       "        vertical-align: middle;\n",
       "    }\n",
       "\n",
       "    .dataframe tbody tr th {\n",
       "        vertical-align: top;\n",
       "    }\n",
       "\n",
       "    .dataframe thead th {\n",
       "        text-align: right;\n",
       "    }\n",
       "</style>\n",
       "<table border=\"1\" class=\"dataframe\">\n",
       "  <thead>\n",
       "    <tr style=\"text-align: right;\">\n",
       "      <th></th>\n",
       "      <th>artist</th>\n",
       "      <th>album</th>\n",
       "    </tr>\n",
       "    <tr>\n",
       "      <th>track</th>\n",
       "      <th></th>\n",
       "      <th></th>\n",
       "    </tr>\n",
       "  </thead>\n",
       "  <tbody>\n",
       "    <tr>\n",
       "      <th>Bohemian Rhapsody - 2011 Mix</th>\n",
       "      <td>[queen]</td>\n",
       "      <td>[a night at the opera (2011 remaster)]</td>\n",
       "    </tr>\n",
       "    <tr>\n",
       "      <th>She Used To Be Mine</th>\n",
       "      <td>[sarabareilles]</td>\n",
       "      <td>[what's inside: songs from waitress]</td>\n",
       "    </tr>\n",
       "    <tr>\n",
       "      <th>Bad as the Boys (feat. ALMA)</th>\n",
       "      <td>[tovelo, alma]</td>\n",
       "      <td>[sunshine kitty]</td>\n",
       "    </tr>\n",
       "    <tr>\n",
       "      <th>Opium</th>\n",
       "      <td>[thenewdivision]</td>\n",
       "      <td>[shadows]</td>\n",
       "    </tr>\n",
       "    <tr>\n",
       "      <th>PAPI</th>\n",
       "      <td>[isabelamerced]</td>\n",
       "      <td>[papi]</td>\n",
       "    </tr>\n",
       "  </tbody>\n",
       "</table>\n",
       "</div>"
      ],
      "text/plain": [
       "                                        artist  \\\n",
       "track                                            \n",
       "Bohemian Rhapsody - 2011 Mix           [queen]   \n",
       "She Used To Be Mine            [sarabareilles]   \n",
       "Bad as the Boys (feat. ALMA)    [tovelo, alma]   \n",
       "Opium                         [thenewdivision]   \n",
       "PAPI                           [isabelamerced]   \n",
       "\n",
       "                                                               album  \n",
       "track                                                                 \n",
       "Bohemian Rhapsody - 2011 Mix  [a night at the opera (2011 remaster)]  \n",
       "She Used To Be Mine             [what's inside: songs from waitress]  \n",
       "Bad as the Boys (feat. ALMA)                        [sunshine kitty]  \n",
       "Opium                                                      [shadows]  \n",
       "PAPI                                                          [papi]  "
      ]
     },
     "execution_count": 59,
     "metadata": {},
     "output_type": "execute_result"
    }
   ],
   "source": [
    "#setting the column track as the index for the df\n",
    "df.set_index('track', inplace = True)\n",
    "df.head()"
   ]
  },
  {
   "cell_type": "code",
   "execution_count": 60,
   "metadata": {},
   "outputs": [],
   "source": [
    "df['bag_of_words'] = ''\n",
    "columns = df.columns\n",
    "for index, row in df.iterrows():\n",
    "    words = ''\n",
    "    for col in columns:\n",
    "            words = words + ' '.join(row[col])+ ' '\n",
    "    row['bag_of_words'] = words\n",
    "    \n",
    "df.drop(columns = [col for col in df.columns if col!= 'bag_of_words'], inplace = True)"
   ]
  },
  {
   "cell_type": "code",
   "execution_count": 61,
   "metadata": {},
   "outputs": [
    {
     "data": {
      "text/html": [
       "<div>\n",
       "<style scoped>\n",
       "    .dataframe tbody tr th:only-of-type {\n",
       "        vertical-align: middle;\n",
       "    }\n",
       "\n",
       "    .dataframe tbody tr th {\n",
       "        vertical-align: top;\n",
       "    }\n",
       "\n",
       "    .dataframe thead th {\n",
       "        text-align: right;\n",
       "    }\n",
       "</style>\n",
       "<table border=\"1\" class=\"dataframe\">\n",
       "  <thead>\n",
       "    <tr style=\"text-align: right;\">\n",
       "      <th></th>\n",
       "      <th>bag_of_words</th>\n",
       "    </tr>\n",
       "    <tr>\n",
       "      <th>track</th>\n",
       "      <th></th>\n",
       "    </tr>\n",
       "  </thead>\n",
       "  <tbody>\n",
       "    <tr>\n",
       "      <th>Bohemian Rhapsody - 2011 Mix</th>\n",
       "      <td>queen a night at the opera (2011 remaster)</td>\n",
       "    </tr>\n",
       "    <tr>\n",
       "      <th>She Used To Be Mine</th>\n",
       "      <td>sarabareilles what's inside: songs from waitre...</td>\n",
       "    </tr>\n",
       "    <tr>\n",
       "      <th>Bad as the Boys (feat. ALMA)</th>\n",
       "      <td>tovelo alma sunshine kitty</td>\n",
       "    </tr>\n",
       "    <tr>\n",
       "      <th>Opium</th>\n",
       "      <td>thenewdivision shadows</td>\n",
       "    </tr>\n",
       "    <tr>\n",
       "      <th>PAPI</th>\n",
       "      <td>isabelamerced papi</td>\n",
       "    </tr>\n",
       "  </tbody>\n",
       "</table>\n",
       "</div>"
      ],
      "text/plain": [
       "                                                                   bag_of_words\n",
       "track                                                                          \n",
       "Bohemian Rhapsody - 2011 Mix       queen a night at the opera (2011 remaster)  \n",
       "She Used To Be Mine           sarabareilles what's inside: songs from waitre...\n",
       "Bad as the Boys (feat. ALMA)                       tovelo alma sunshine kitty  \n",
       "Opium                                                  thenewdivision shadows  \n",
       "PAPI                                                       isabelamerced papi  "
      ]
     },
     "execution_count": 61,
     "metadata": {},
     "output_type": "execute_result"
    }
   ],
   "source": [
    "df.head()"
   ]
  },
  {
   "cell_type": "code",
   "execution_count": 62,
   "metadata": {},
   "outputs": [
    {
     "data": {
      "text/plain": [
       "0    Bohemian Rhapsody - 2011 Mix\n",
       "1             She Used To Be Mine\n",
       "2    Bad as the Boys (feat. ALMA)\n",
       "Name: track, dtype: object"
      ]
     },
     "execution_count": 62,
     "metadata": {},
     "output_type": "execute_result"
    }
   ],
   "source": [
    "# instantiating and generating the count matrix\n",
    "count = CountVectorizer()\n",
    "count_matrix = count.fit_transform(df['bag_of_words'])\n",
    "\n",
    "# creating a Series for the song titles so they are associated to an ordered numerical\n",
    "# list I will use later to match the indexes\n",
    "indices = pd.Series(df.index)\n",
    "indices[:3]"
   ]
  },
  {
   "cell_type": "code",
   "execution_count": 63,
   "metadata": {},
   "outputs": [
    {
     "data": {
      "text/plain": [
       "array([[1., 0., 0., ..., 0., 0., 0.],\n",
       "       [0., 1., 0., ..., 0., 0., 0.],\n",
       "       [0., 0., 1., ..., 0., 0., 0.],\n",
       "       ...,\n",
       "       [0., 0., 0., ..., 1., 0., 0.],\n",
       "       [0., 0., 0., ..., 0., 1., 0.],\n",
       "       [0., 0., 0., ..., 0., 0., 1.]])"
      ]
     },
     "execution_count": 63,
     "metadata": {},
     "output_type": "execute_result"
    }
   ],
   "source": [
    "# generating the cosine similarity matrix\n",
    "cosine_sim = cosine_similarity(count_matrix, count_matrix)\n",
    "cosine_sim"
   ]
  },
  {
   "cell_type": "code",
   "execution_count": 64,
   "metadata": {},
   "outputs": [],
   "source": [
    "# function that takes in song title as input and returns the top 10 recommended songs\n",
    "def recommendations(title, cosine_sim = cosine_sim):\n",
    "    \n",
    "    recommended_songs = []\n",
    "    \n",
    "    # gettin the index of the song that matches the title\n",
    "    idx = indices[indices == title].index[0]\n",
    "\n",
    "    # creating a Series with the similarity scores in descending order\n",
    "    score_series = pd.Series(cosine_sim[idx]).sort_values(ascending = False)\n",
    "\n",
    "    # getting the indexes of the 10 most similar songs\n",
    "    top_10_indexes = list(score_series.iloc[1:11].index)\n",
    "    \n",
    "    # populating the list with the titles of the best 10 matching songs\n",
    "    for i in top_10_indexes:\n",
    "        recommended_songs.append(list(df.index)[i])\n",
    "        \n",
    "    return recommended_songs"
   ]
  },
  {
   "cell_type": "code",
   "execution_count": 65,
   "metadata": {},
   "outputs": [
    {
     "data": {
      "text/plain": [
       "['Irreplaceable',\n",
       " 'Criminal',\n",
       " 'Till the World Ends',\n",
       " 'I Wanna Go',\n",
       " 'She Used To Be Mine',\n",
       " \"Kiss Me, I'm Shitfaced\",\n",
       " 'Got My Mind Set On You - 2009 Mix',\n",
       " 'In Waves',\n",
       " 'Carried Away',\n",
       " 'Before He Cheats']"
      ]
     },
     "execution_count": 65,
     "metadata": {},
     "output_type": "execute_result"
    }
   ],
   "source": [
    "recommendations('Toxic')"
   ]
  },
  {
   "cell_type": "code",
   "execution_count": 66,
   "metadata": {},
   "outputs": [],
   "source": [
    "import pickle\n",
    "pickle.dump(recommendations, open(\"r_model.pkl\",'wb'))"
   ]
  },
  {
   "cell_type": "code",
   "execution_count": null,
   "metadata": {},
   "outputs": [],
   "source": [
    "import pandas as pd\n",
    "from rake_nltk import Rake\n",
    "import numpy as np\n",
    "from sklearn.metrics.pairwise import cosine_similarity\n",
    "from sklearn.feature_extraction.text import CountVectorizer\n",
    "\n",
    "#pd.set_option('display.max_columns', 100)\n",
    "df = pd.read_csv('songs_i_rarely_ever_skip.csv')\n",
    "\n",
    "df = df[['Artist Name','Track Name','Album Name']]\n",
    "df= df.rename(columns={'Artist Name':'artist','Track Name':'track','Album Name':'album'})\n",
    "\n",
    "# discarding the commas between the artists' full names and getting only the first three names\n",
    "df['artist'] = df['artist'].map(lambda x: x.split(',')[:3])\n",
    "\n",
    "# putting the album in a list of words\n",
    "df['album'] = df['album'].map(lambda x: x.lower().split(',')[:4])\n",
    "\n",
    "# merging together first and last name for each singer, so it's considered as one word \n",
    "# and there is no mix up between people sharing a first name\n",
    "for index, row in df.iterrows():\n",
    "    row['artist'] = [x.lower().replace(' ','') for x in row['artist']]\n",
    "\n",
    "df.set_index('track', inplace = True)\n",
    "\n",
    "df['bag_of_words'] = ''\n",
    "columns = df.columns\n",
    "for index, row in df.iterrows():\n",
    "    words = ''\n",
    "    for col in columns:\n",
    "            words = words + ' '.join(row[col])+ ' '\n",
    "    row['bag_of_words'] = words\n",
    "    \n",
    "df.drop(columns = [col for col in df.columns if col!= 'bag_of_words'], inplace = True)\n",
    "\n",
    "# instantiating and generating the count matrix\n",
    "count = CountVectorizer()\n",
    "count_matrix = count.fit_transform(df['bag_of_words'])\n",
    "\n",
    "# creating a Series for the song titles so they are associated to an ordered numerical\n",
    "# list I will use later to match the indexes\n",
    "indices = pd.Series(df.index)\n",
    "indices[:3]\n",
    "\n",
    "# generating the cosine similarity matrix\n",
    "cosine_sim = cosine_similarity(count_matrix, count_matrix)\n",
    "cosine_sim\n",
    "\n",
    "# function that takes in song title as input and returns the top 10 recommended songs\n",
    "def recommendations(title, cosine_sim = cosine_sim):\n",
    "    \n",
    "    recommended_songs = []\n",
    "    \n",
    "    # gettin the index of the song that matches the title\n",
    "    idx = indices[indices == title].index[0]\n",
    "\n",
    "    # creating a Series with the similarity scores in descending order\n",
    "    score_series = pd.Series(cosine_sim[idx]).sort_values(ascending = False)\n",
    "\n",
    "    # getting the indexes of the 10 most similar songs\n",
    "    top_10_indexes = list(score_series.iloc[1:11].index)\n",
    "    \n",
    "    # populating the list with the titles of the best 10 matching songs\n",
    "    for i in top_10_indexes:\n",
    "        recommended_songs.append(list(df.index)[i])\n",
    "        \n",
    "    return recommended_songs\n",
    "\n",
    "recommendations('Toxic')"
   ]
  }
 ],
 "metadata": {
  "kernelspec": {
   "display_name": "Python 3",
   "language": "python",
   "name": "python3"
  },
  "language_info": {
   "codemirror_mode": {
    "name": "ipython",
    "version": 3
   },
   "file_extension": ".py",
   "mimetype": "text/x-python",
   "name": "python",
   "nbconvert_exporter": "python",
   "pygments_lexer": "ipython3",
   "version": "3.8.1"
  }
 },
 "nbformat": 4,
 "nbformat_minor": 4
}
